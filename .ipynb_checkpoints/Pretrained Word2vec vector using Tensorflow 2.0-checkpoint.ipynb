{
 "cells": [
  {
   "cell_type": "markdown",
   "metadata": {},
   "source": [
    "## 1.Reading Data"
   ]
  },
  {
   "cell_type": "code",
   "execution_count": 1,
   "metadata": {
    "id": "qJliLVHIiwP3"
   },
   "outputs": [],
   "source": [
    "import numpy as np \n",
    "import pandas as pd \n",
    "import os\n",
    "import re\n",
    "import matplotlib.pyplot as plt\n",
    "from tensorflow.python.keras.preprocessing.text import Tokenizer\n",
    "from tensorflow.python.keras.preprocessing.sequence import pad_sequences\n",
    "from keras.models import Sequential\n",
    "from keras.layers import Dense, Embedding, GRU, LSTM, Bidirectional\n",
    "from keras.layers.embeddings import Embedding\n",
    "from keras.initializers import Constant\n",
    "from keras.callbacks import ModelCheckpoint\n",
    "from keras.models import load_model"
   ]
  },
  {
   "cell_type": "code",
   "execution_count": 2,
   "metadata": {
    "id": "9USuJ0L6iwNz"
   },
   "outputs": [],
   "source": [
    "data1 = pd.read_json(\"Sarcasm_Headlines_Dataset.json\", lines=True)\n",
    "data2 = pd.read_json(\"Sarcasm_Headlines_Dataset_v2.json\", lines=True)\n",
    "data =  pd.concat([data1, data2])"
   ]
  },
  {
   "cell_type": "markdown",
   "metadata": {
    "id": "zwfdHayoaCkM"
   },
   "source": [
    "## 2.Preprocessing Text"
   ]
  },
  {
   "cell_type": "code",
   "execution_count": 4,
   "metadata": {
    "id": "IckXsIxGiwLb"
   },
   "outputs": [],
   "source": [
    "def clean_text(text):\n",
    "    text = text.lower()\n",
    "    \n",
    "    pattern = re.compile('http[s]?://(?:[a-zA-Z]|[0-9]|[$-_@.&+]|[!*\\(\\),]|(?:%[0-9a-fA-F][0-9a-fA-F]))+')\n",
    "    text = pattern.sub('', text)\n",
    "    text = \" \".join(filter(lambda x:x[0]!='@', text.split()))\n",
    "    emoji = re.compile(\"[\"\n",
    "                           u\"\\U0001F600-\\U0001FFFF\"  # emoticons\n",
    "                           u\"\\U0001F300-\\U0001F5FF\"  # symbols & pictographs\n",
    "                           u\"\\U0001F680-\\U0001F6FF\"  # transport & map symbols\n",
    "                           u\"\\U0001F1E0-\\U0001F1FF\"  # flags (iOS)\n",
    "                           u\"\\U00002702-\\U000027B0\"\n",
    "                           u\"\\U000024C2-\\U0001F251\"\n",
    "                           \"]+\", flags=re.UNICODE)\n",
    "    \n",
    "    text = emoji.sub(r'', text)\n",
    "    text = text.lower()\n",
    "    text = re.sub(r\"i'm\", \"i am\", text)\n",
    "    text = re.sub(r\"he's\", \"he is\", text)\n",
    "    text = re.sub(r\"she's\", \"she is\", text)\n",
    "    text = re.sub(r\"that's\", \"that is\", text)        \n",
    "    text = re.sub(r\"what's\", \"what is\", text)\n",
    "    text = re.sub(r\"where's\", \"where is\", text) \n",
    "    text = re.sub(r\"\\'ll\", \" will\", text)  \n",
    "    text = re.sub(r\"\\'ve\", \" have\", text)  \n",
    "    text = re.sub(r\"\\'re\", \" are\", text)\n",
    "    text = re.sub(r\"\\'d\", \" would\", text)\n",
    "    text = re.sub(r\"\\'ve\", \" have\", text)\n",
    "    text = re.sub(r\"won't\", \"will not\", text)\n",
    "    text = re.sub(r\"don't\", \"do not\", text)\n",
    "    text = re.sub(r\"did't\", \"did not\", text)\n",
    "    text = re.sub(r\"can't\", \"can not\", text)\n",
    "    text = re.sub(r\"it's\", \"it is\", text)\n",
    "    text = re.sub(r\"couldn't\", \"could not\", text)\n",
    "    text = re.sub(r\"have't\", \"have not\", text)\n",
    "    text = re.sub(r\"[,.\\\"\\'!@#$%^&*(){}?/;`~:<>+=-]\", \"\", text)\n",
    "    return text"
   ]
  },
  {
   "cell_type": "code",
   "execution_count": 6,
   "metadata": {
    "id": "qR2CAjwGiwI2"
   },
   "outputs": [],
   "source": [
    "import string\n",
    "from nltk.tokenize import word_tokenize\n",
    "from nltk.corpus import stopwords\n",
    "\n",
    "def CleanTokenize(lines):\n",
    "    head_lines = list()\n",
    "    for line in lines:\n",
    "        line = clean_text(line)\n",
    "        # tokenize the text\n",
    "        tokens = word_tokenize(line)\n",
    "        # remove puntuations\n",
    "        table = str.maketrans('', '', string.punctuation)\n",
    "        stripped = [w.translate(table) for w in tokens]\n",
    "        # remove non alphabetic characters\n",
    "        words = [word for word in stripped if word.isalpha()]\n",
    "        stop_words = set(stopwords.words(\"english\"))\n",
    "        # remove stop words\n",
    "        words = [w for w in words if not w in stop_words]\n",
    "        words=\" \".join(words)\n",
    "        head_lines.append(words)\n",
    "    return head_lines"
   ]
  },
  {
   "cell_type": "code",
   "execution_count": 7,
   "metadata": {
    "colab": {
     "base_uri": "https://localhost:8080/"
    },
    "id": "YZPbXoc-1cpO",
    "outputId": "047d2d94-b071-4dac-c963-a76b9e5b8fa5"
   },
   "outputs": [
    {
     "name": "stdout",
     "output_type": "stream",
     "text": [
      "[nltk_data] Downloading package punkt to /root/nltk_data...\n",
      "[nltk_data]   Package punkt is already up-to-date!\n",
      "[nltk_data] Downloading package stopwords to /root/nltk_data...\n",
      "[nltk_data]   Package stopwords is already up-to-date!\n"
     ]
    },
    {
     "data": {
      "text/plain": [
       "True"
      ]
     },
     "execution_count": 7,
     "metadata": {},
     "output_type": "execute_result"
    }
   ],
   "source": [
    ">>> import nltk\n",
    ">>> nltk.download('punkt')\n",
    "\n",
    "\n",
    ">>> import nltk\n",
    ">>> nltk.download('stopwords')"
   ]
  },
  {
   "cell_type": "code",
   "execution_count": 8,
   "metadata": {
    "id": "UBjfzFDR1emB"
   },
   "outputs": [],
   "source": [
    "import string\n",
    "from nltk.tokenize import word_tokenize\n",
    "from nltk.corpus import stopwords\n",
    "\n",
    "def CleanTokenize(lines):\n",
    "    head_lines = list()\n",
    "    for line in lines:\n",
    "        line = clean_text(line)\n",
    "        # tokenize the text\n",
    "        tokens = word_tokenize(line)\n",
    "        # remove puntuations\n",
    "        table = str.maketrans('', '', string.punctuation)\n",
    "        stripped = [w.translate(table) for w in tokens]\n",
    "        # remove non alphabetic characters\n",
    "        words = [word for word in stripped if word.isalpha()]\n",
    "        stop_words = set(stopwords.words(\"english\"))\n",
    "        # remove stop words\n",
    "        words = [w for w in words if not w in stop_words]\n",
    "        words=\" \".join(words)\n",
    "        head_lines.append(words)\n",
    "    return head_lines"
   ]
  },
  {
   "cell_type": "code",
   "execution_count": 9,
   "metadata": {
    "id": "IDJOOykoiwGU"
   },
   "outputs": [],
   "source": [
    "import pandas as pd\n",
    "from tqdm import tqdm\n",
    "import re \n",
    "from sklearn.model_selection import train_test_split"
   ]
  },
  {
   "cell_type": "code",
   "execution_count": 11,
   "metadata": {
    "id": "vtLvy74AiwEE"
   },
   "outputs": [],
   "source": [
    "X=data[\"headline\"]\n",
    "Y=data[\"is_sarcastic\"]"
   ]
  },
  {
   "cell_type": "code",
   "execution_count": 12,
   "metadata": {
    "id": "kp4BYMIvGLyN"
   },
   "outputs": [],
   "source": [
    "X = CleanTokenize(X)"
   ]
  },
  {
   "cell_type": "markdown",
   "metadata": {
    "id": "dzFAObG4ZQRo"
   },
   "source": [
    "## 3.Train,Cv and Test"
   ]
  },
  {
   "cell_type": "code",
   "execution_count": 13,
   "metadata": {
    "id": "1ogy-ghmGQkb"
   },
   "outputs": [],
   "source": [
    "import pandas as pd\n",
    "from tqdm import tqdm\n",
    "import re \n",
    "from sklearn.model_selection import train_test_split"
   ]
  },
  {
   "cell_type": "code",
   "execution_count": 14,
   "metadata": {
    "id": "MCr7YfjbGQh8"
   },
   "outputs": [],
   "source": [
    "x_tr,x_test,y_tr,y_test=train_test_split(X,Y,test_size=0.30,random_state=42,stratify=Y)\n",
    "\n",
    "x_train,x_cv,y_train,y_cv=train_test_split(x_tr,y_tr,test_size=0.30,random_state=42,stratify=y_tr)"
   ]
  },
  {
   "cell_type": "code",
   "execution_count": 16,
   "metadata": {
    "colab": {
     "base_uri": "https://localhost:8080/"
    },
    "id": "LnwQx983GQfk",
    "outputId": "41ecce2e-f4d5-4fb9-f386-509b6061ac94"
   },
   "outputs": [
    {
     "name": "stdout",
     "output_type": "stream",
     "text": [
      "27110 11619 16599\n"
     ]
    }
   ],
   "source": [
    "print(len(x_train),len(x_cv),len(x_test))"
   ]
  },
  {
   "cell_type": "markdown",
   "metadata": {},
   "source": [
    "## 4.Deep learning Model\n",
    "### 4.1 Tokenization"
   ]
  },
  {
   "cell_type": "code",
   "execution_count": 17,
   "metadata": {
    "id": "7uW1k9cN1m1t"
   },
   "outputs": [],
   "source": [
    "import pandas as pd\n",
    "import numpy as np\n",
    "import nltk\n",
    "from nltk.corpus import stopwords\n",
    "from nltk.stem import WordNetLemmatizer\n",
    "import json"
   ]
  },
  {
   "cell_type": "code",
   "execution_count": 18,
   "metadata": {
    "id": "BAZVd1OD1mzH"
   },
   "outputs": [],
   "source": [
    "from keras.preprocessing.text import Tokenizer\n",
    "from keras.preprocessing.sequence import pad_sequences"
   ]
  },
  {
   "cell_type": "code",
   "execution_count": 19,
   "metadata": {
    "colab": {
     "base_uri": "https://localhost:8080/"
    },
    "id": "XbrimYML1mwG",
    "outputId": "0f17d976-a80d-4762-9f34-880b2c2a4eb7"
   },
   "outputs": [
    {
     "name": "stdout",
     "output_type": "stream",
     "text": [
      "24440\n"
     ]
    }
   ],
   "source": [
    "tokenizer = Tokenizer()\n",
    "tokenizer.fit_on_texts(x_train)\n",
    "#tokenizer data\n",
    "vocab_size=len(tokenizer.word_index)+1\n",
    "print(vocab_size)"
   ]
  },
  {
   "cell_type": "code",
   "execution_count": 20,
   "metadata": {
    "id": "vYXxcJVG1mtt"
   },
   "outputs": [],
   "source": [
    "max_len = 25"
   ]
  },
  {
   "cell_type": "markdown",
   "metadata": {},
   "source": [
    "### 4.2. padding and text to sequence"
   ]
  },
  {
   "cell_type": "code",
   "execution_count": 21,
   "metadata": {
    "id": "BsFd-11J1mrW"
   },
   "outputs": [],
   "source": [
    "train_sequences = tokenizer.texts_to_sequences(x_train)\n",
    "\n",
    "train_padded = pad_sequences(\n",
    "    train_sequences, maxlen=max_len, truncating=\"post\", padding=\"post\"\n",
    ")\n",
    "\n",
    "cv_sequences = tokenizer.texts_to_sequences(x_cv)\n",
    "cv_padded = pad_sequences(\n",
    "    cv_sequences, maxlen=max_len, padding=\"post\", truncating=\"post\"\n",
    ")\n",
    "\n",
    "test_sequences = tokenizer.texts_to_sequences(x_test)\n",
    "test_padded = pad_sequences(\n",
    "    test_sequences, maxlen=max_len, padding=\"post\", truncating=\"post\"\n",
    ")"
   ]
  },
  {
   "cell_type": "markdown",
   "metadata": {
    "id": "PQEMuwEc1moF"
   },
   "source": [
    "### 4.3. Download word2vec-google-news-300 dimension vector"
   ]
  },
  {
   "cell_type": "code",
   "execution_count": 22,
   "metadata": {
    "id": "BbE2oWKF1mk9"
   },
   "outputs": [],
   "source": [
    "import gensim.downloader\n",
    "import gensim"
   ]
  },
  {
   "cell_type": "code",
   "execution_count": 23,
   "metadata": {
    "colab": {
     "base_uri": "https://localhost:8080/"
    },
    "id": "c44GQgXxwXjn",
    "outputId": "61cd6703-cf49-4f79-bc64-d830cf2fb3e0"
   },
   "outputs": [
    {
     "data": {
      "text/plain": [
       "[['snowstorm', 'chicago', 'delays', 'hundreds', 'morning', 'murders'],\n",
       " ['colleges', 'biggest', 'sweet', 'tooth', 'ranking', 'grubhub'],\n",
       " ['greek',\n",
       "  'populace',\n",
       "  'woken',\n",
       "  'angela',\n",
       "  'merkels',\n",
       "  'voice',\n",
       "  'booming',\n",
       "  'loudspeakers',\n",
       "  'across',\n",
       "  'country'],\n",
       " ['techie', 'things', 'everyone', 'needs', 'know'],\n",
       " ['royal', 'baby', 'born']]"
      ]
     },
     "execution_count": 23,
     "metadata": {},
     "output_type": "execute_result"
    }
   ],
   "source": [
    "words = []\n",
    "for i in x_train:\n",
    "    words.append(i.split())\n",
    "words[:5]"
   ]
  },
  {
   "cell_type": "code",
   "execution_count": 24,
   "metadata": {
    "colab": {
     "base_uri": "https://localhost:8080/"
    },
    "id": "KHaggCreb-ou",
    "outputId": "10f09210-ea1f-4c90-b96e-56e455a766b9"
   },
   "outputs": [
    {
     "name": "stdout",
     "output_type": "stream",
     "text": [
      "[==================================================] 100.0% 1662.8/1662.8MB downloaded\n"
     ]
    }
   ],
   "source": [
    "model=gensim.downloader.load('word2vec-google-news-300')"
   ]
  },
  {
   "cell_type": "markdown",
   "metadata": {
    "id": "dkclYugQjQus"
   },
   "source": [
    "### 4.4. Word Embedding"
   ]
  },
  {
   "cell_type": "code",
   "execution_count": 25,
   "metadata": {
    "id": "VpbmbnUclos2"
   },
   "outputs": [],
   "source": [
    "vocab_size=len(tokenizer.word_index)+1\n",
    "embedding_dim=300"
   ]
  },
  {
   "cell_type": "code",
   "execution_count": 26,
   "metadata": {
    "colab": {
     "base_uri": "https://localhost:8080/"
    },
    "id": "ZVbYkVsrlopz",
    "outputId": "c55df883-3823-4f89-b52a-6f8040bec013"
   },
   "outputs": [
    {
     "name": "stdout",
     "output_type": "stream",
     "text": [
      "Embedding  matrix shape: (24440, 300)\n"
     ]
    }
   ],
   "source": [
    "skipped_words=0\n",
    "embedding_dim=300\n",
    "embedding_matrix=np.zeros((vocab_size, embedding_dim))\n",
    "for word, index in tokenizer.word_index.items():\n",
    "  try:\n",
    "    embedding_vector = model[word]\n",
    "  except:\n",
    "    skipped_words=skipped_words+1\n",
    "    pass\n",
    "  if embedding_vector is not None:\n",
    "    embedding_matrix[index]=embedding_vector\n",
    "print(\"Embedding  matrix shape:\",embedding_matrix.shape)"
   ]
  },
  {
   "cell_type": "code",
   "execution_count": 28,
   "metadata": {
    "id": "YrdtILQBlXQg"
   },
   "outputs": [],
   "source": [
    "embedding_layer=Embedding(vocab_size, output_dim=embedding_dim, \n",
    "                          weights=[embedding_matrix], \n",
    "                          input_length=25, trainable=False)"
   ]
  },
  {
   "cell_type": "markdown",
   "metadata": {
    "id": "FSVAGr_ToQaj"
   },
   "source": [
    "### 4.5. Training deep learning model"
   ]
  },
  {
   "cell_type": "code",
   "execution_count": 29,
   "metadata": {
    "id": "dIbkhs4SlXLr"
   },
   "outputs": [],
   "source": [
    "from keras.models import Sequential\n",
    "from keras.layers import Dense, Embedding, GRU, LSTM,GlobalMaxPool1D,Dropout\n",
    "from keras.layers.embeddings import Embedding\n",
    "from keras.initializers import Constant\n",
    "from keras.callbacks import ModelCheckpoint\n",
    "from keras.models import load_model"
   ]
  },
  {
   "cell_type": "code",
   "execution_count": 30,
   "metadata": {
    "colab": {
     "base_uri": "https://localhost:8080/"
    },
    "id": "DYNIIm_slXJD",
    "outputId": "b3fbb605-9010-4629-cff7-8a3d369f0afd"
   },
   "outputs": [
    {
     "name": "stdout",
     "output_type": "stream",
     "text": [
      "Summary of the built model...\n",
      "Model: \"sequential\"\n",
      "_________________________________________________________________\n",
      " Layer (type)                Output Shape              Param #   \n",
      "=================================================================\n",
      " embedding (Embedding)       (None, 25, 300)           7332000   \n",
      "                                                                 \n",
      " lstm (LSTM)                 (None, 25, 64)            93440     \n",
      "                                                                 \n",
      " lstm_1 (LSTM)               (None, 25, 128)           98816     \n",
      "                                                                 \n",
      " global_max_pooling1d (Globa  (None, 128)              0         \n",
      " lMaxPooling1D)                                                  \n",
      "                                                                 \n",
      " dropout (Dropout)           (None, 128)               0         \n",
      "                                                                 \n",
      " dense (Dense)               (None, 1)                 129       \n",
      "                                                                 \n",
      "=================================================================\n",
      "Total params: 7,524,385\n",
      "Trainable params: 192,385\n",
      "Non-trainable params: 7,332,000\n",
      "_________________________________________________________________\n",
      "None\n"
     ]
    }
   ],
   "source": [
    "model = Sequential()\n",
    "model.add(embedding_layer)\n",
    "model.add(LSTM(64, dropout=0.2,recurrent_dropout=0.2,return_sequences=True))\n",
    "model.add(LSTM(128, dropout=0.2,recurrent_dropout=0.2,return_sequences=True))\n",
    "model.add(GlobalMaxPool1D())\n",
    "model.add(Dropout(0.25))\n",
    "model.add(Dense(1, activation='sigmoid'))\n",
    "\n",
    "model.compile(loss='binary_crossentropy', optimizer='adam', metrics=['acc'])\n",
    "\n",
    "print('Summary of the built model...')\n",
    "print(model.summary())"
   ]
  },
  {
   "cell_type": "code",
   "execution_count": 35,
   "metadata": {
    "colab": {
     "base_uri": "https://localhost:8080/"
    },
    "id": "LZ8GpVmpqvqp",
    "outputId": "b59cf5ea-1f2b-40e8-c9dc-0dcfdc6b35a9"
   },
   "outputs": [
    {
     "name": "stdout",
     "output_type": "stream",
     "text": [
      "Epoch 1/15\n",
      "848/848 [==============================] - 113s 133ms/step - loss: 0.3652 - acc: 0.8371 - val_loss: 0.3812 - val_acc: 0.8260\n",
      "Epoch 2/15\n",
      "848/848 [==============================] - 113s 134ms/step - loss: 0.3304 - acc: 0.8561 - val_loss: 0.4034 - val_acc: 0.8169\n",
      "Epoch 3/15\n",
      "848/848 [==============================] - 112s 132ms/step - loss: 0.2953 - acc: 0.8729 - val_loss: 0.3600 - val_acc: 0.8423\n",
      "Epoch 4/15\n",
      "848/848 [==============================] - 109s 129ms/step - loss: 0.2678 - acc: 0.8862 - val_loss: 0.3324 - val_acc: 0.8589\n",
      "Epoch 5/15\n",
      "848/848 [==============================] - 112s 132ms/step - loss: 0.2432 - acc: 0.8994 - val_loss: 0.3334 - val_acc: 0.8611\n",
      "Epoch 6/15\n",
      "848/848 [==============================] - 111s 131ms/step - loss: 0.2239 - acc: 0.9068 - val_loss: 0.3153 - val_acc: 0.8700\n",
      "Epoch 7/15\n",
      "848/848 [==============================] - 112s 132ms/step - loss: 0.2008 - acc: 0.9214 - val_loss: 0.3403 - val_acc: 0.8657\n",
      "Epoch 8/15\n",
      "848/848 [==============================] - 112s 132ms/step - loss: 0.1832 - acc: 0.9290 - val_loss: 0.3297 - val_acc: 0.8772\n",
      "Epoch 9/15\n",
      "848/848 [==============================] - 112s 132ms/step - loss: 0.1669 - acc: 0.9350 - val_loss: 0.3233 - val_acc: 0.8781\n",
      "Epoch 10/15\n",
      "848/848 [==============================] - 110s 129ms/step - loss: 0.1528 - acc: 0.9404 - val_loss: 0.3333 - val_acc: 0.8796\n",
      "Epoch 11/15\n",
      "848/848 [==============================] - 110s 130ms/step - loss: 0.1460 - acc: 0.9428 - val_loss: 0.3218 - val_acc: 0.8892\n",
      "Epoch 12/15\n",
      "848/848 [==============================] - 110s 129ms/step - loss: 0.1310 - acc: 0.9480 - val_loss: 0.3193 - val_acc: 0.8884\n",
      "Epoch 13/15\n",
      "848/848 [==============================] - 110s 130ms/step - loss: 0.1228 - acc: 0.9538 - val_loss: 0.3229 - val_acc: 0.8928\n",
      "Epoch 14/15\n",
      "848/848 [==============================] - 109s 128ms/step - loss: 0.1111 - acc: 0.9582 - val_loss: 0.3268 - val_acc: 0.8938\n",
      "Epoch 15/15\n",
      "848/848 [==============================] - 112s 132ms/step - loss: 0.1078 - acc: 0.9594 - val_loss: 0.3651 - val_acc: 0.8990\n"
     ]
    }
   ],
   "source": [
    "history = model.fit(train_padded,y_train, batch_size=32, epochs=15, validation_data=(cv_padded, y_cv), verbose=1)"
   ]
  },
  {
   "cell_type": "code",
   "execution_count": 37,
   "metadata": {
    "colab": {
     "base_uri": "https://localhost:8080/",
     "height": 545
    },
    "id": "mwj1JyMtqvoQ",
    "outputId": "614058e9-34fa-433b-9bde-8beafedfc34d"
   },
   "outputs": [
    {
     "data": {
      "image/png": "[encoded data removed]",
      "text/plain": [
       "<Figure size 432x288 with 1 Axes>"
      ]
     },
     "metadata": {
      "needs_background": "light"
     },
     "output_type": "display_data"
    },
    {
     "data": {
      "image/png": "[encoded data removed]",
      "text/plain": [
       "<Figure size 432x288 with 1 Axes>"
      ]
     },
     "metadata": {
      "needs_background": "light"
     },
     "output_type": "display_data"
    }
   ],
   "source": [
    "# Plot results\n",
    "import numpy as np \n",
    "import pandas as pd\n",
    "import os\n",
    "import re\n",
    "import matplotlib.pyplot as plt\n",
    "\n",
    "\n",
    "acc = history.history['acc']\n",
    "val_acc = history.history['val_acc']\n",
    "loss = history.history['loss']\n",
    "val_loss = history.history['val_loss']\n",
    "\n",
    "epochs = range(1, len(acc)+1)\n",
    "\n",
    "plt.plot(epochs, acc, 'g', label='Training accuracy')\n",
    "plt.plot(epochs, val_acc, 'r', label='Validation accuracy')\n",
    "plt.title('Training and validation accuracy')\n",
    "plt.legend()\n",
    "\n",
    "plt.figure()\n",
    "\n",
    "plt.plot(epochs, loss, 'g', label='Training loss')\n",
    "plt.plot(epochs, val_loss, 'r', label='Validation loss')\n",
    "plt.title('Training and validation loss')\n",
    "plt.legend()\n",
    "\n",
    "plt.show()"
   ]
  },
  {
   "cell_type": "markdown",
   "metadata": {},
   "source": [
    "### 4.6. Testing"
   ]
  },
  {
   "cell_type": "code",
   "execution_count": 38,
   "metadata": {
    "colab": {
     "base_uri": "https://localhost:8080/",
     "height": 456
    },
    "id": "R-YsFkQUqvlk",
    "outputId": "5dc37e3c-f058-42f0-8c01-8d0ba102116e"
   },
   "outputs": [
    {
     "name": "stdout",
     "output_type": "stream",
     "text": [
      "Accuracy on test set: 89.415%\n",
      "F1-Score on test set: 0.879\n",
      "-------------------- confusion matrix --------------------\n"
     ]
    },
    {
     "data": {
      "image/png": "[encoded data removed]",
      "text/plain": [
       "<Figure size 432x432 with 2 Axes>"
      ]
     },
     "metadata": {
      "needs_background": "light"
     },
     "output_type": "display_data"
    }
   ],
   "source": [
    "import matplotlib.pyplot as plt\n",
    "import seaborn as sns\n",
    "from sklearn.metrics import accuracy_score\n",
    "from sklearn.metrics import confusion_matrix\n",
    "from sklearn.metrics import f1_score\n",
    "\n",
    "y_pred = model.predict(test_padded)\n",
    "y_pred = np.round(y_pred).astype(int)\n",
    "\n",
    "print(\"Accuracy on test set: %0.3f%%\"%(accuracy_score(y_test, y_pred)*100))\n",
    "print(\"F1-Score on test set: %0.3f\"%(f1_score(y_test, y_pred)))\n",
    "print(\"-\"*20, \"confusion matrix\", \"-\"*20)\n",
    "plt.figure(figsize=(6,6))\n",
    "df_cm = pd.DataFrame(confusion_matrix(y_test, y_pred), range(2),range(2))\n",
    "sns.set(font_scale=1.4)#for label size\n",
    "sns.heatmap(df_cm, annot=True,annot_kws={\"size\": 16}, fmt='g')\n",
    "plt.xlabel('Predicted Class')\n",
    "plt.ylabel('Original Class')\n",
    "plt.show()"
   ]
  },
  {
   "cell_type": "code",
   "execution_count": null,
   "metadata": {
    "id": "U7Ru4PdolXGt"
   },
   "outputs": [],
   "source": []
  },
  {
   "cell_type": "code",
   "execution_count": null,
   "metadata": {
    "id": "uFYQ5Sg4lXET"
   },
   "outputs": [],
   "source": []
  }
 ],
 "metadata": {
  "accelerator": "TPU",
  "colab": {
   "collapsed_sections": [],
   "machine_shape": "hm",
   "name": "main_word2vec with tensorflow 2.0.ipynb",
   "provenance": []
  },
  "kernelspec": {
   "display_name": "Python 3",
   "language": "python",
   "name": "python3"
  },
  "language_info": {
   "codemirror_mode": {
    "name": "ipython",
    "version": 3
   },
   "file_extension": ".py",
   "mimetype": "text/x-python",
   "name": "python",
   "nbconvert_exporter": "python",
   "pygments_lexer": "ipython3",
   "version": "3.8.5"
  }
 },
 "nbformat": 4,
 "nbformat_minor": 1
}
